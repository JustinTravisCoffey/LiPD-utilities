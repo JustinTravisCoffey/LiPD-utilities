{
 "cells": [
  {
   "cell_type": "markdown",
   "metadata": {},
   "source": [
    "<div class=\"clearfix\" style=\"padding: 10px; padding-left: 0px; padding-top: 40px\">\n",
    "<img src=\"https://www.dropbox.com/s/y8dd1z3sl4uofep/lipd_logo.png?raw=1\" width=\"700px\" class=\"pull-right\" style=\"display: inline-block; margin: 0px;\">\n",
    "</div>\n",
    "\n",
    "## Welcome to the LiPD Quickstart Notebook!\n",
    "\n",
    "This Notebook was created to help you get familiar with the commands you can use in LiPD. Follow each step and experiment as much as you'd like! Each step will help prepare you for the next step. \n",
    "\n",
    "For this tutorial we will be using the example files found in the Github Repostiory's [Examples folder](https://github.com/nickmckay/LiPD-utilities/tree/master/Examples).\n",
    "\n",
    "\n",
    "### Table of Contents\n",
    "  * [Install Package](#install)\n",
    "  * [Import Package](#lipdimport)\n",
    "  * [Reading Files](#lipdread)\n",
    "  * [Load LiPDs](#loadlipds)\n",
    "  * [Viewing LiPD data](#lipddata)\n",
    "  * [Extract TimeSeries](#timeseries)\n",
    "  * [Timeseries Object](#tso)\n",
    "  * [Excel Converter](#excel)\n",
    "  * [NOAA Converter](#noaa)\n",
    "  * [DOI Updater](#doi)\n",
    "  * [Pandas](#pandas)\n",
    "  * [Remove files](#removelipds)\n",
    "  * [Glossary](#glossary)\n"
   ]
  },
  {
   "cell_type": "markdown",
   "metadata": {},
   "source": [
    "## Install Package <a id=\"install\"></a>\n",
    "\n",
    "This guide assumes that you have already followed the [installation steps](https://nickmckay.github.io/LiPD-utilities/) and the LiPD package is installed on your computer. "
   ]
  },
  {
   "cell_type": "markdown",
   "metadata": {},
   "source": [
    "##  Import Package <a id=\"lipdimport\"></a>\n",
    "\n",
    "\n",
    "Import the LiPD package into your python environment. \n",
    "\n",
    "</p>\n",
    "</div>"
   ]
  },
  {
   "cell_type": "code",
   "execution_count": null,
   "metadata": {
    "collapsed": false
   },
   "outputs": [],
   "source": [
    "# Import the LiPD package\n",
    "import lipd"
   ]
  },
  {
   "cell_type": "markdown",
   "metadata": {},
   "source": [
    "##  Reading Files<a id=\"lipdread\"></a>\n",
    "\n",
    "There are four valid file types that you may import. LiPD (.lpd), Excel (.xls, .xlsx), NOAA (.txt)\n",
    "Use the appropriate function for the file type that you would like to read. \n",
    "\n",
    "<div class=\"alert alert-warning\" role=\"alert\" style=\"margin: 10px\">\n",
    "<p>**NOTE**</p>\n",
    "<p> All \"read\" functions accept a file path argument. If the path argument is left empty, a GUI window will appear and allow you to choose a file or choose a directory.\n",
    "</p><br>\n",
    "<p>\n",
    "If you want to select multiple files, but not a whole directory, use any function under \"# Read File\" without a path argument. Use the GUI to select the files you want.  \n",
    "</p>\n",
    "</div>\n"
   ]
  },
  {
   "cell_type": "code",
   "execution_count": null,
   "metadata": {
    "collapsed": false
   },
   "outputs": [],
   "source": [
    "# Read File - GUI\n",
    "lipd.readLipd()\n",
    "lipd.readExcel()\n",
    "lipd.readNoaa()\n",
    "\n",
    "# Read Directory - GUI\n",
    "lipd.readLipds()\n",
    "lipd.readExcels()\n",
    "lipd.readNoaas()\n",
    "\n",
    "# Read with path argument - No GUI\n",
    "lipd.readLipd(\"/path/to/file.lpd\")\n",
    "lipd.readLipds(\"/path/to/dir/\")\n"
   ]
  },
  {
   "cell_type": "markdown",
   "metadata": {},
   "source": [
    "####  Excel Spreadsheet Converter <a id=\"excel\"></a>\n",
    "\n",
    "-----\n",
    "\n",
    "Microsoft Excel spreadsheets must be converted to LiPD before any LiPD functions can be used. Use the [Excel template](https://github.com/nickmckay/LiPD-utilities/raw/master/Examples/excel_lipd_v1.2.xlsx) to create an Excel file with your data.  Make sure to follow the formatting guidelines and the hints noted throughout the spreadsheet.\n",
    "\n",
    "<div class=\"alert alert-warning\" role=\"alert\" style=\"margin: 10px\">\n",
    "<p>**NOTE**</p>\n",
    "<p> The Excel converter runs every `.xls` and `.xlsx` file currently loaded.\n",
    "</p>\n",
    "</div>"
   ]
  },
  {
   "cell_type": "code",
   "execution_count": null,
   "metadata": {
    "collapsed": false
   },
   "outputs": [],
   "source": [
    "lipd.excel()"
   ]
  },
  {
   "cell_type": "markdown",
   "metadata": {},
   "source": [
    "####  NOAA Converter <a id=\"noaa\"></a>\n",
    "\n",
    "-----\n",
    "\n",
    "National Oceanic and Atmospheric Administration (NOAA) text files must be converted to LiPD before any LiPD functions can be used. The converter is designed to parse data from the [NOAA template](https://github.com/nickmckay/LiPD-utilities/raw/master/Examples/noaa_v2.0.txt). Please insert your data in this template format to ensure a complete and accurate conversion to LiPD. Use the example file as a reference for correct formatting.\n",
    "\n",
    "<div class=\"alert alert-warning\" role=\"alert\" style=\"margin: 10px\">\n",
    "<p>**NOTE**</p>\n",
    "<p> The NOAA converter will run for every `.txt` file currently loaded.\n",
    "\n",
    "</p>\n",
    "</div>"
   ]
  },
  {
   "cell_type": "code",
   "execution_count": null,
   "metadata": {
    "collapsed": false
   },
   "outputs": [],
   "source": [
    "lipd.noaa()"
   ]
  },
  {
   "cell_type": "markdown",
   "metadata": {},
   "source": [
    "####  DOI Updater <a id=\"doi\"></a>\n",
    "\n",
    "-----\n",
    "\n",
    "The DOI updater will take your LiPD files and update them with the most recent information provided by [doi.org](doi.org). The updater will run once per LiPD, and will skip any LiPD files that were updated previously. \n",
    "\n",
    "<div class=\"alert alert-warning\" role=\"alert\" style=\"margin: 10px\">\n",
    "<p>**NOTE**</p>\n",
    "<p> `doi()` will update the LiPD files stored on your computer. It will not update LiPD files currently loaded.\n",
    "</p>\n",
    "</div>"
   ]
  },
  {
   "cell_type": "code",
   "execution_count": null,
   "metadata": {
    "collapsed": false
   },
   "outputs": [],
   "source": [
    "lipd.doi()"
   ]
  },
  {
   "cell_type": "markdown",
   "metadata": {},
   "source": [
    "##  Writing Files <a id=\"writelipds\"></a>\n",
    "\n",
    "-----\n",
    "Save all datasets currently loaded to LiPD files. \n"
   ]
  },
  {
   "cell_type": "code",
   "execution_count": null,
   "metadata": {
    "collapsed": false
   },
   "outputs": [],
   "source": [
    "# Write Files - GUI\n",
    "lipd.writeLipds()\n",
    "\n",
    "# Write with path argument - No GUI\n",
    "lipd.writeLipds(\"/path/to/dir/\")"
   ]
  },
  {
   "cell_type": "markdown",
   "metadata": {},
   "source": [
    "##  Pickling Data <a id=\"pickle\"></a>\n",
    "\n",
    "-----\n",
    "The Pickle module is a python core module allows us to share LiPD data with python 2.7 users. It won't have the support or functions of LiPD Utilities, but it will give access to the data. \n",
    "\n",
    "A Pickle file (.pklz) is a compressed archive file. It's small size makes sharing easy. "
   ]
  },
  {
   "cell_type": "code",
   "execution_count": null,
   "metadata": {
    "collapsed": true
   },
   "outputs": [],
   "source": [
    "import pickle\n",
    "import gzip\n",
    "\n",
    "# Read a pickle file\n",
    "f = gzip.open('filename.pklz','rb')\n",
    "newData = pickle.load(f)\n",
    "f.close()\n",
    "\n",
    "\n",
    "# Write a pickle file \n",
    "yourData = {'a':'blah','b':range(10)}\n",
    "f = gzip.open('filename.pklz','wb')\n",
    "pickle.dump(yourData,f)\n",
    "f.close()"
   ]
  },
  {
   "cell_type": "markdown",
   "metadata": {},
   "source": [
    "##  Other Functions<a id=\"other\"></a>\n",
    "\n",
    "-----\n",
    "The functions below are not critical to the use of LiPD Utilities, but are included for convenience as helper functions that may make your workflow easier. "
   ]
  },
  {
   "cell_type": "markdown",
   "metadata": {},
   "source": [
    "####  SHOW data  <a id=\"showdata\"></a>\n",
    "\n",
    "----\n",
    "`Show` functions are useful for printing data to the console.\n",
    "\n",
    "`showLipds()`<br>\n",
    "* Show the names of the LiPD files in the current LiPD Library.\n",
    "\n",
    "`showMetadata(filename)`<br>\n",
    "* Show metadata for a specific dataset\n",
    "\n",
    "`showCsv(filename)`<br>\n",
    "* Show CSV data for a specific dataset\n",
    "\n",
    "`showDfs(dataframe_dictionary)`<br>\n",
    "* Show a list of dataframes in a dataframe dictionary\n",
    "\n",
    "`showTso(tso)`<br>\n",
    "* Show the keys found in the current time series object.\n",
    "* Note: only available after using `extractTs()`\n"
   ]
  },
  {
   "cell_type": "markdown",
   "metadata": {},
   "source": [
    "####  GET data  <a id=\"getdata\"></a>\n",
    "----\n",
    "\n",
    "`Get` functions are useful for retrieving data and placing it in the workspace as a variable.\n",
    "\n",
    "`getCsv(filename)`<br>\n",
    "* Returns: dictionary\n",
    "* Get the values for the specific dataset.\n",
    "<br>\n",
    "\n",
    "`getMetadata(filename)`<br>\n",
    "* Returns: dictionary\n",
    "* Get the metadata for the specific dataset.\n",
    "<br>\n"
   ]
  },
  {
   "cell_type": "code",
   "execution_count": null,
   "metadata": {
    "collapsed": false
   },
   "outputs": [],
   "source": [
    "odp_csv = lipd.getCsv(\"ODP1098B12.lpd\")"
   ]
  },
  {
   "cell_type": "code",
   "execution_count": null,
   "metadata": {
    "collapsed": false
   },
   "outputs": [],
   "source": [
    "odp_metadata = lipd.getMetadata(\"ODP1098B12.lpd\")"
   ]
  },
  {
   "cell_type": "markdown",
   "metadata": {},
   "source": [
    "### TimeSeries  <a id=\"timeseries\"></a>\n",
    "\n",
    "----\n",
    "\n",
    "TimeSeries functions are useful creating, filtering, and exporting TimeSeries from the LiPD data in the workspace.\n",
    "\n",
    "`extractTs()`<br>\n",
    "* Returns: dictionary\n",
    "* Creates a time series from the data in the workspace.\n",
    "<br>\n",
    "\n",
    "`collapseTs(time_series)`<br>\n",
    "* Puts time series data back into the workspace data. \n",
    "<br>\n",
    "\n",
    "`find(expression, time_series)`<br>\n",
    "* Returns: Names of matching records(array), Filtered time series (dictionary)\n",
    "* Find all time series objects that match a certain criteria. \n",
    "\n",
    "<div class=\"alert alert-warning\" role=\"alert\" style=\"margin: 10px\">\n",
    "<p>**WARNING**</p>\n",
    "    <p> `extractTs()` will NOT create time series objects for age/year/depth variables. All age/year/depth data is included with other time series objects (when available) to allow for comparison calculations.\n",
    "    <br>\n",
    "    <br>\n",
    "    <p>`collapseTs()` will overwrite the contents of the LiPD Library</p>\n",
    "</div>"
   ]
  },
  {
   "cell_type": "markdown",
   "metadata": {},
   "source": [
    "### TimeSeries Object (example)  <a id=\"tso\"></a>\n",
    "\n",
    "----\n",
    "\n",
    "A time series holds many time series objects. Below is an example of what the contents of a time series object look like. \n"
   ]
  },
  {
   "cell_type": "code",
   "execution_count": 16,
   "metadata": {
    "collapsed": false
   },
   "outputs": [
    {
     "data": {
      "text/html": [
       "<img src=\"./tso1.png\" />\n",
       "<img src=\"./tso2.png\" />"
      ],
      "text/plain": [
       "<IPython.core.display.HTML object>"
      ]
     },
     "metadata": {},
     "output_type": "display_data"
    }
   ],
   "source": [
    "%%html\n",
    "<img src=\"./tso1.png\" />\n",
    "<img src=\"./tso2.png\" />"
   ]
  },
  {
   "cell_type": "code",
   "execution_count": null,
   "metadata": {
    "collapsed": false
   },
   "outputs": [],
   "source": [
    "time_series = lipd.extractTs()"
   ]
  },
  {
   "cell_type": "code",
   "execution_count": null,
   "metadata": {
    "collapsed": false
   },
   "outputs": [],
   "source": [
    "new_time_series = lipd.find(\"archiveType is marine sediment\", time_series)"
   ]
  },
  {
   "cell_type": "code",
   "execution_count": null,
   "metadata": {
    "collapsed": false
   },
   "outputs": [],
   "source": [
    "new_time_series = lipd.find(\"geo_meanElev <= -1000 && geo_meanElev > -1100\", time_series)"
   ]
  },
  {
   "cell_type": "code",
   "execution_count": null,
   "metadata": {
    "collapsed": false
   },
   "outputs": [],
   "source": [
    "lipd.collapseTs(time_series)"
   ]
  },
  {
   "cell_type": "markdown",
   "metadata": {},
   "source": [
    "### Pandas  Dataframes<a id=\"pandas\"></a>\n",
    "\n",
    "----\n",
    "\n",
    "`ensToDf(arrays)`\n",
    "* Returns: data frame (obj)\n",
    "* Create an ensemble data frame from some given nested numpy arrays\n",
    "\n",
    "`lipdToDf(filename)`\n",
    "* Returns: data frame(s) (dictionary)\n",
    "* Creates a collection of pandas data frames from LiPD data\n",
    "\n",
    "`tsToDf(time_series, filename)`\n",
    "* Returns: data frame(s) (dictionary)\n",
    "* Creates a collection of pandas data frames from a TimeSeries object. The CSV data frame will be plot with depth, age, and year columns when available.\n",
    "\n",
    "\n",
    "<div class=\"alert alert-warning\" role=\"alert\" style=\"margin: 10px\">\n",
    "<p>**NOTE**</p>\n",
    "    <p>After creating the data frames, calling a specific data frame variable will display the formatted data frame. </p>\n",
    "</div>"
   ]
  },
  {
   "cell_type": "code",
   "execution_count": null,
   "metadata": {
    "collapsed": false
   },
   "outputs": [],
   "source": [
    "dfs_lipd = lipd.lipdToDf(\"ODP1098B12.lpd\")"
   ]
  },
  {
   "cell_type": "code",
   "execution_count": null,
   "metadata": {
    "collapsed": false
   },
   "outputs": [],
   "source": [
    "lipd.showDfs(dfs_lipd)"
   ]
  },
  {
   "cell_type": "code",
   "execution_count": null,
   "metadata": {
    "collapsed": false
   },
   "outputs": [],
   "source": [
    "dfs_lipd[\"metadata\"]"
   ]
  },
  {
   "cell_type": "code",
   "execution_count": null,
   "metadata": {
    "collapsed": false,
    "scrolled": true
   },
   "outputs": [],
   "source": [
    "dfs_lipd[\"paleoData\"][\"ODP1098B12.Paleo1.measurementTable1.csv\"]"
   ]
  },
  {
   "cell_type": "code",
   "execution_count": null,
   "metadata": {
    "collapsed": false,
    "scrolled": true
   },
   "outputs": [],
   "source": [
    "dfs_lipd[\"chronData\"][\"ODP1098B12.Chron1.measurementTable1.csv\"]"
   ]
  },
  {
   "cell_type": "markdown",
   "metadata": {},
   "source": [
    "<div class=\"alert alert-warning\" role=\"alert\" style=\"margin: 10px\">\n",
    "<p>**NOTE**</p>\n",
    "    <p>TimeSeries objects are not able to use the autocomplete feature for filenames. Be sure to run `showTsos()` and copy/paste the TimeSeries object of interest</p>\n",
    "</div>"
   ]
  },
  {
   "cell_type": "code",
   "execution_count": null,
   "metadata": {
    "collapsed": false
   },
   "outputs": [],
   "source": [
    "dfs_ts = lipd.tsToDf(time_series, \"ODP1098B12_data_SST\")"
   ]
  },
  {
   "cell_type": "code",
   "execution_count": null,
   "metadata": {
    "collapsed": false
   },
   "outputs": [],
   "source": [
    "showDfs(dfs_ts)"
   ]
  },
  {
   "cell_type": "code",
   "execution_count": null,
   "metadata": {
    "collapsed": false
   },
   "outputs": [],
   "source": [
    "dfs_ts[\"metadata\"]"
   ]
  },
  {
   "cell_type": "code",
   "execution_count": null,
   "metadata": {
    "collapsed": false
   },
   "outputs": [],
   "source": [
    "dfs_ts[\"paleoData\"]"
   ]
  },
  {
   "cell_type": "code",
   "execution_count": null,
   "metadata": {
    "collapsed": false
   },
   "outputs": [],
   "source": [
    "dfs_ts[\"chronData\"][\"ODP1098B12\"]"
   ]
  },
  {
   "cell_type": "markdown",
   "metadata": {},
   "source": [
    "####  Removing LiPDs <a id=\"removelipds\"></a>\n",
    "----\n",
    "\n",
    "`removeLipd(filename)`\n",
    "* Remove one dataset from the LiPD Library\n",
    "\n",
    "`removeLipds()`\n",
    "* Remove all datasets from the LiPD Library"
   ]
  },
  {
   "cell_type": "code",
   "execution_count": null,
   "metadata": {
    "collapsed": false
   },
   "outputs": [],
   "source": [
    "lipd.removeLipds()"
   ]
  },
  {
   "cell_type": "markdown",
   "metadata": {},
   "source": [
    "## Glossary <a id=\"glossary\"></a>\n",
    "\n",
    "----\n",
    "\n",
    "<div style=\"background-color: #f2f2f2\">\n",
    "<dl style=\"padding-top=20px\">\n",
    "\n",
    "<dt style=\"margin-left: 0.5em\"> DOI </dt><br>\n",
    "<dd style= \"margin-left: 2em\"> A Digital Object Identifier is a unique alphanumeric string assigned by a registration agency to identify content and provide a persistent link to its location on the Internet. The publisher assigns a DOI when your article is published and made available electronically. </dd><br>\n",
    "\n",
    "<dt style=\"margin-left: 0.5em\"> Environment / Workspace </dt><br>\n",
    "<dd style= \"margin-left: 2em\"> The current state of the Notebook. Variables and modules in the Notebook are constantly changing, and all of these contribute to the state of the workspace. </dd><br>\n",
    "\n",
    "<dt style=\"margin-left: 0.5em\"> LiPD </dt><br>\n",
    "<dd style= \"margin-left: 2em\"> Refers to the LiPD package or LiPD files, depending on the context.  </dd><br>\n",
    "\n",
    "<dt style=\"margin-left: 0.5em\"> LiPD Library </dt><br>\n",
    "<dd style= \"margin-left: 2em\"> A collection of LiPD file data. </dd><br>\n",
    "\n",
    "<dt style=\"margin-left: 0.5em\"> Module </dt><br>\n",
    "<dd style= \"margin-left: 2em\"> A set of related functions that is imported for use in the Notebook.</dd><br>\n",
    "\n",
    "<dt style=\"margin-left: 0.5em\"> NOAA </dt><br>\n",
    "<dd style= \"margin-left: 2em\"> National Oceanic and Atmospheric Administration. This document uses NOAA to signify a specific text file format used by the organization. </dd><br>\n",
    "\n",
    "<dt style=\"margin-left: 0.5em\"> Notebook </dt><br>\n",
    "<dd style= \"margin-left: 2em\"> Jupyter uses Notebooks as a way to save a single session of workflow and scientific computations. This Quickstart Notebook is for learning and documentation, though you may later create your own Notebooks with graphs, functions, and various datasets. </dd><br>\n",
    "\n",
    "<dt style=\"margin-left: 0.5em\"> Magic Commands </dt><br>\n",
    "<dd style= \"margin-left: 2em\"> Special built-in Jupyter commands that provide common useful functions that \"magically\" work. </dd><br>\n",
    "\n",
    "<dt style=\"margin-left: 0.5em\"> TimeSeries Library </dt><br>\n",
    "<dd style= \"margin-left: 2em\"> A collection of TimeSeries data and objects. </dd><br>\n",
    "\n",
    "<dt style=\"margin-left: 0.5em\"> TimeSeries Object </dt><br>\n",
    "<dd style= \"margin-left: 2em\"> An extracted piece of the TimeSeries from a LiPD file. </dd><br>\n",
    "\n",
    "</dl>\n",
    "</div>"
   ]
  }
 ],
 "metadata": {
  "kernelspec": {
   "display_name": "Python 3",
   "language": "python",
   "name": "python3"
  },
  "language_info": {
   "codemirror_mode": {
    "name": "ipython",
    "version": 3
   },
   "file_extension": ".py",
   "mimetype": "text/x-python",
   "name": "python",
   "nbconvert_exporter": "python",
   "pygments_lexer": "ipython3",
   "version": "3.4.1"
  }
 },
 "nbformat": 4,
 "nbformat_minor": 0
}
