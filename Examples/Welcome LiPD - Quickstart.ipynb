{
 "cells": [
  {
   "cell_type": "markdown",
   "metadata": {},
   "source": [
    "<div class=\"clearfix\" style=\"padding: 10px; padding-left: 0px; padding-top: 40px\">\n",
    "<img src=\"https://www.dropbox.com/s/y8dd1z3sl4uofep/lipd_logo.png?raw=1\" width=\"700px\" class=\"pull-right\" style=\"display: inline-block; margin: 0px;\">\n",
    "</div>\n",
    "\n",
    "## Welcome to the LiPD Quickstart Notebook!\n",
    "\n",
    "This Notebook was created to help you get familiar with the commands you can use in LiPD. Follow each step and experiment as much as you'd like! Each step will help prepare you for the next step. \n",
    "\n",
    "### Table of Contents\n",
    "  * [Getting started with LiPD](#lipd)\n",
    "  * [LiPD Functions](#lipdfns)\n",
    "  * [Excel Converter](#excel)\n",
    "  * [NOAA Converter](#noaa)\n",
    "  * [DOI Updater](#doi)\n",
    "  * [Load LiPDs](#loadlipds)\n",
    "  * [Viewing LiPD data](#lipddata)\n",
    "  * [Extract TimeSeries](#timeseries)\n",
    "  * [Pandas](#pandas)\n",
    "  * [Remove files](#removelipds)\n",
    "  * [Glossary](#glossary)\n",
    "\n",
    "\n"
   ]
  },
  {
   "cell_type": "markdown",
   "metadata": {},
   "source": [
    "###  Installation <a id=\"install\"></a>\n",
    "\n",
    "This guide assumes that you have already followed the [installation steps](https://nickmckay.github.io/LiPD-utilities/) and the LiPD package is installed on your computer. "
   ]
  },
  {
   "cell_type": "markdown",
   "metadata": {},
   "source": [
    "###  Getting started with LiPD <a id=\"lipd\"></a>\n",
    "\n",
    "Let's look how to get started with the LiPD package. For this tutorial we will be using the example files found in the Github Repostiory's [Examples folder](https://github.com/nickmckay/LiPD-utilities/tree/master/Examples).\n",
    "\n",
    "First, we must import the LiPD module into the environment:\n",
    "1. Import the LiPD package from your system\n",
    "2. Run the cell\n",
    "3. A browse dialog window will ask you where your files are stored.\n",
    "4. Browse and choose the folder that has the example files from earlier.\n",
    "\n",
    "<div class=\"alert alert-warning\" role=\"alert\" style=\"margin: 10px\">\n",
    "<p>**NOTE**</p>\n",
    "<p> The LiPD package creates a folder on your computer at `/<your_username>/LiPD_Workspace`. This is where \"Option 4: LiPD_Workspace\" will link to. \n",
    "\n",
    "</p>\n",
    "</div>"
   ]
  },
  {
   "cell_type": "code",
   "execution_count": null,
   "metadata": {
    "collapsed": false
   },
   "outputs": [],
   "source": [
    "# Import the LiPD package and locate your files\n",
    "import lipd"
   ]
  },
  {
   "cell_type": "markdown",
   "metadata": {},
   "source": [
    "##  LiPD functions <a id=\"lipdfns\"></a>\n",
    "\n",
    "What happened? \n",
    "* All the LiPD commands are now available to use\n",
    "* A target folder containing files is set.\n",
    "\n",
    "There are a few paths you can take from here. It all depends on what you'd like to accomplish and what files you provided. Look at the sections below to see about the specific processes. \n",
    "\n",
    "\n"
   ]
  },
  {
   "cell_type": "markdown",
   "metadata": {},
   "source": [
    "####  Excel Spreadsheet Converter <a id=\"excel\"></a>\n",
    "\n",
    "-----\n",
    "\n",
    "Microsoft Excel spreadsheets must be converted to LiPD before any LiPD functions can be used. Use the [Excel template](https://github.com/nickmckay/LiPD-utilities/raw/master/Examples/excel_lipd_v1.2.xlsx) to create an Excel file with your data.  Make sure to follow the formatting guidelines and the hints noted throughout the spreadsheet.\n",
    "\n",
    "<div class=\"alert alert-warning\" role=\"alert\" style=\"margin: 10px\">\n",
    "<p>**NOTE**</p>\n",
    "<p> The Excel converter runs every `.xls` and `.xlsx` file in the working directory.\n",
    "</p>\n",
    "</div>"
   ]
  },
  {
   "cell_type": "code",
   "execution_count": null,
   "metadata": {
    "collapsed": false
   },
   "outputs": [],
   "source": [
    "lipd.excel()"
   ]
  },
  {
   "cell_type": "markdown",
   "metadata": {},
   "source": [
    "####  NOAA Converter <a id=\"noaa\"></a>\n",
    "\n",
    "-----\n",
    "\n",
    "National Oceanic and Atmospheric Administration (NOAA) text files must be converted to LiPD before any LiPD functions can be used. The converter is designed to parse data from the [NOAA template](https://github.com/nickmckay/LiPD-utilities/raw/master/Examples/noaa_v2.0.txt). Please insert your data in this template format to ensure a complete and accurate conversion to LiPD. Use the example file as a reference for correct formatting.\n",
    "\n",
    "<div class=\"alert alert-warning\" role=\"alert\" style=\"margin: 10px\">\n",
    "<p>**NOTE**</p>\n",
    "<p> The NOAA converter will run for every `.txt` file in your working directory.\n",
    "\n",
    "</p>\n",
    "</div>"
   ]
  },
  {
   "cell_type": "code",
   "execution_count": null,
   "metadata": {
    "collapsed": false
   },
   "outputs": [],
   "source": [
    "lipd.noaa()"
   ]
  },
  {
   "cell_type": "markdown",
   "metadata": {},
   "source": [
    "####  DOI Updater <a id=\"doi\"></a>\n",
    "\n",
    "-----\n",
    "\n",
    "The DOI updater will take your LiPD files and update them with the most recent information provided by [doi.org](doi.org). The updater will run once per LiPD, and will skip any LiPD files that were updated previously. \n",
    "\n",
    "<div class=\"alert alert-warning\" role=\"alert\" style=\"margin: 10px\">\n",
    "<p>**NOTE**</p>\n",
    "<p> Use `doi()` to update your LiPD files before loading files with `loadLipds()`.\n",
    "</p>\n",
    "</div>"
   ]
  },
  {
   "cell_type": "code",
   "execution_count": null,
   "metadata": {
    "collapsed": false
   },
   "outputs": [],
   "source": [
    "lipd.doi()"
   ]
  },
  {
   "cell_type": "markdown",
   "metadata": {},
   "source": [
    "####  Loading LiPD files <a id=\"loadlipds\"></a>\n",
    "\n",
    "-----\n",
    "\n",
    "`loadLipds()`<br>\n",
    "* Import all the the LiPD files from your target folder into a collection called a LiPD Library. The LiPD library holds data for each LiPD file.\n",
    "<br>"
   ]
  },
  {
   "cell_type": "code",
   "execution_count": null,
   "metadata": {
    "collapsed": false
   },
   "outputs": [],
   "source": [
    "lipd.loadLipds()"
   ]
  },
  {
   "cell_type": "markdown",
   "metadata": {},
   "source": [
    "####  Showing data  <a id=\"showdata\"></a>\n",
    "\n",
    "----\n",
    "`Show` functions are useful for printing data to the console.\n",
    "\n",
    "`showLipds()`<br>\n",
    "* Show the names of the LiPD files in the current LiPD Library.\n",
    "\n",
    "`showMetadata(filename)`<br>\n",
    "* Show metadata for a specific dataset\n",
    "\n",
    "`showCsv(filename)`<br>\n",
    "* Show CSV data for a specific dataset\n",
    "\n",
    "`showDfs(dataframe_dictionary)`<br>\n",
    "* Show a list of dataframes in a dataframe dictionary\n",
    "\n",
    "`showTso()`<br>\n",
    "* Show a list of datasets in the workspace\n",
    "* Note: only available after using `extractTimeSeries()`\n",
    "\n",
    "`showTsos()`<br>\n",
    "* Show a list of datasets in the workspace\n",
    "* Note: only available after using `extractTimeSeries()`\n"
   ]
  },
  {
   "cell_type": "code",
   "execution_count": null,
   "metadata": {
    "collapsed": false
   },
   "outputs": [],
   "source": [
    "lipd.showLipds()"
   ]
  },
  {
   "cell_type": "markdown",
   "metadata": {},
   "source": [
    "####  Getting data  <a id=\"getdata\"></a>\n",
    "----\n",
    "\n",
    "`Get` functions are useful for retrieving data and placing it in the workspace as a variable.\n",
    "\n",
    "`getCsv(filename)`<br>\n",
    "* Returns: dictionary\n",
    "* Get the values for the specific dataset.\n",
    "<br>\n",
    "\n",
    "`getMetadata(filename)`<br>\n",
    "* Returns: dictionary\n",
    "* Get the metadata for the specific dataset.\n",
    "<br>\n"
   ]
  },
  {
   "cell_type": "code",
   "execution_count": null,
   "metadata": {
    "collapsed": false
   },
   "outputs": [],
   "source": [
    "odp_csv = lipd.getCsv(\"ODP1098B12.lpd\")"
   ]
  },
  {
   "cell_type": "code",
   "execution_count": null,
   "metadata": {
    "collapsed": false
   },
   "outputs": [],
   "source": [
    "odp_metadata = lipd.getMetadata(\"ODP1098B12.lpd\")"
   ]
  },
  {
   "cell_type": "markdown",
   "metadata": {},
   "source": [
    "#### TimeSeries  <a id=\"timeseries\"></a>\n",
    "\n",
    "----\n",
    "\n",
    "TimeSeries functions are useful creating, filtering, and exporting TimeSeries from the LiPD data in the workspace.\n",
    "\n",
    "`extractTs()`<br>\n",
    "* Returns: dictionary\n",
    "* Creates a time series from the data in the workspace.\n",
    "<br>\n",
    "\n",
    "`collapseTs()`<br>\n",
    "* Puts time series data back into the workspace data. \n",
    "<br>\n",
    "\n",
    "`find(expression, time_series)`<br>\n",
    "* Returns: Names of matching records(array), Filtered time series (dictionary)\n",
    "* Find all time series objects that match a certain criteria. \n",
    "\n",
    "<div class=\"alert alert-warning\" role=\"alert\" style=\"margin: 10px\">\n",
    "<p>**WARNING**</p>\n",
    "    <p>`exportTimeSeries()` will overwrite the contents of the LiPD Library</p>\n",
    "</div>"
   ]
  },
  {
   "cell_type": "code",
   "execution_count": null,
   "metadata": {
    "collapsed": false
   },
   "outputs": [],
   "source": [
    "time_series = lipd.extractTs()"
   ]
  },
  {
   "cell_type": "code",
   "execution_count": null,
   "metadata": {
    "collapsed": false
   },
   "outputs": [],
   "source": [
    "lipd.showTsos(time_series)"
   ]
  },
  {
   "cell_type": "code",
   "execution_count": null,
   "metadata": {
    "collapsed": false
   },
   "outputs": [],
   "source": [
    "names, new_time_series = lipd.find(\"archiveType is marine sediment\", time_series)"
   ]
  },
  {
   "cell_type": "code",
   "execution_count": null,
   "metadata": {
    "collapsed": false
   },
   "outputs": [],
   "source": [
    "names, new_time_series = lipd.find(\"geo_meanElev <= -1000 && geo_meanElev > -1100\", time_series)"
   ]
  },
  {
   "cell_type": "code",
   "execution_count": null,
   "metadata": {
    "collapsed": false
   },
   "outputs": [],
   "source": [
    "lipd.collapseTs()"
   ]
  },
  {
   "cell_type": "markdown",
   "metadata": {},
   "source": [
    "#### Pandas  Dataframes<a id=\"pandas\"></a>\n",
    "\n",
    "----\n",
    "\n",
    "`ensToDf(arrays)`\n",
    "* Returns: data frame (obj)\n",
    "* Create an ensemble data frame from some given nested numpy arrays\n",
    "\n",
    "`lipdToDf(filename)`\n",
    "* Returns: data frame(s) (dictionary)\n",
    "* Creates a collection of pandas data frames from LiPD data\n",
    "\n",
    "`tsToDf(time_series, filename)`\n",
    "* Returns: data frame(s) (dictionary)\n",
    "* Creates a collection of pandas data frames from a TimeSeries object. The CSV data frame will be plot with depth, age, and year columns when available.\n",
    "\n",
    "\n",
    "<div class=\"alert alert-warning\" role=\"alert\" style=\"margin: 10px\">\n",
    "<p>**NOTE**</p>\n",
    "    <p>After creating the data frames, calling a specific data frame variable will display the formatted data frame. </p>\n",
    "</div>"
   ]
  },
  {
   "cell_type": "code",
   "execution_count": null,
   "metadata": {
    "collapsed": false
   },
   "outputs": [],
   "source": [
    "dfs_lipd = lipd.lipdToDf(\"ODP1098B12.lpd\")"
   ]
  },
  {
   "cell_type": "code",
   "execution_count": null,
   "metadata": {
    "collapsed": false
   },
   "outputs": [],
   "source": [
    "lipd.showDfs(dfs_lipd)"
   ]
  },
  {
   "cell_type": "code",
   "execution_count": null,
   "metadata": {
    "collapsed": false
   },
   "outputs": [],
   "source": [
    "dfs_lipd[\"metadata\"]"
   ]
  },
  {
   "cell_type": "code",
   "execution_count": null,
   "metadata": {
    "collapsed": false,
    "scrolled": true
   },
   "outputs": [],
   "source": [
    "dfs_lipd[\"paleoData\"][\"ODP1098B12.Paleo1.measurementTable1.csv\"]"
   ]
  },
  {
   "cell_type": "code",
   "execution_count": null,
   "metadata": {
    "collapsed": false,
    "scrolled": true
   },
   "outputs": [],
   "source": [
    "dfs_lipd[\"chronData\"][\"ODP1098B12.Chron1.measurementTable1.csv\"]"
   ]
  },
  {
   "cell_type": "markdown",
   "metadata": {},
   "source": [
    "<div class=\"alert alert-warning\" role=\"alert\" style=\"margin: 10px\">\n",
    "<p>**NOTE**</p>\n",
    "    <p>TimeSeries objects are not able to use the autocomplete feature for filenames. Be sure to run `showTsos()` and copy/paste the TimeSeries object of interest</p>\n",
    "</div>"
   ]
  },
  {
   "cell_type": "code",
   "execution_count": null,
   "metadata": {
    "collapsed": false
   },
   "outputs": [],
   "source": [
    "dfs_ts = lipd.tsToDf(time_series, \"ODP1098B12_data_SST\")"
   ]
  },
  {
   "cell_type": "code",
   "execution_count": null,
   "metadata": {
    "collapsed": false
   },
   "outputs": [],
   "source": [
    "showDfs(dfs_ts)"
   ]
  },
  {
   "cell_type": "code",
   "execution_count": null,
   "metadata": {
    "collapsed": false
   },
   "outputs": [],
   "source": [
    "dfs_ts[\"metadata\"]"
   ]
  },
  {
   "cell_type": "code",
   "execution_count": null,
   "metadata": {
    "collapsed": false
   },
   "outputs": [],
   "source": [
    "dfs_ts[\"paleoData\"]"
   ]
  },
  {
   "cell_type": "code",
   "execution_count": null,
   "metadata": {
    "collapsed": false
   },
   "outputs": [],
   "source": [
    "dfs_ts[\"chronData\"][\"ODP1098B12\"]"
   ]
  },
  {
   "cell_type": "markdown",
   "metadata": {},
   "source": [
    "####  Removing LiPDs <a id=\"removelipds\"></a>\n",
    "----\n",
    "\n",
    "`removeLipd(filename)`\n",
    "* Remove one dataset from the LiPD Library\n",
    "\n",
    "`removeLipds()`\n",
    "* Remove all datasets from the LiPD Library"
   ]
  },
  {
   "cell_type": "code",
   "execution_count": null,
   "metadata": {
    "collapsed": false
   },
   "outputs": [],
   "source": [
    "lipd.removeLipds()"
   ]
  },
  {
   "cell_type": "markdown",
   "metadata": {},
   "source": [
    "####  Saving <a id=\"saving\"></a>\n",
    "----\n",
    "\n",
    "`saveLipds()`\n",
    "* Saves each LiPD in the LiPD Library back to your computer as a LiPD file.\n"
   ]
  },
  {
   "cell_type": "code",
   "execution_count": null,
   "metadata": {
    "collapsed": false
   },
   "outputs": [],
   "source": [
    "lipd.saveLipds()"
   ]
  },
  {
   "cell_type": "markdown",
   "metadata": {},
   "source": [
    "## Glossary <a id=\"glossary\"></a>\n",
    "\n",
    "----\n",
    "\n",
    "<div style=\"background-color: #f2f2f2\">\n",
    "<dl style=\"padding-top=20px\">\n",
    "\n",
    "<dt style=\"margin-left: 0.5em\"> DOI </dt><br>\n",
    "<dd style= \"margin-left: 2em\"> A Digital Object Identifier is a unique alphanumeric string assigned by a registration agency to identify content and provide a persistent link to its location on the Internet. The publisher assigns a DOI when your article is published and made available electronically. </dd><br>\n",
    "\n",
    "<dt style=\"margin-left: 0.5em\"> Environment / Workspace </dt><br>\n",
    "<dd style= \"margin-left: 2em\"> The current state of the Notebook. Variables and modules in the Notebook are constantly changing, and all of these contribute to the state of the workspace. </dd><br>\n",
    "\n",
    "<dt style=\"margin-left: 0.5em\"> LiPD </dt><br>\n",
    "<dd style= \"margin-left: 2em\"> Refers to the LiPD package or LiPD files, depending on the context.  </dd><br>\n",
    "\n",
    "<dt style=\"margin-left: 0.5em\"> LiPD Library </dt><br>\n",
    "<dd style= \"margin-left: 2em\"> A collection of LiPD file data. </dd><br>\n",
    "\n",
    "<dt style=\"margin-left: 0.5em\"> Module </dt><br>\n",
    "<dd style= \"margin-left: 2em\"> A set of related functions that is imported for use in the Notebook.</dd><br>\n",
    "\n",
    "<dt style=\"margin-left: 0.5em\"> NOAA </dt><br>\n",
    "<dd style= \"margin-left: 2em\"> National Oceanic and Atmospheric Administration. This document uses NOAA to signify a specific text file format used by the organization. </dd><br>\n",
    "\n",
    "<dt style=\"margin-left: 0.5em\"> Notebook </dt><br>\n",
    "<dd style= \"margin-left: 2em\"> Jupyter uses Notebooks as a way to save a single session of workflow and scientific computations. This Quickstart Notebook is for learning and documentation, though you may later create your own Notebooks with graphs, functions, and various datasets. </dd><br>\n",
    "\n",
    "<dt style=\"margin-left: 0.5em\"> Magic Commands </dt><br>\n",
    "<dd style= \"margin-left: 2em\"> Special built-in Jupyter commands that provide common useful functions that \"magically\" work. </dd><br>\n",
    "\n",
    "<dt style=\"margin-left: 0.5em\"> TimeSeries Library </dt><br>\n",
    "<dd style= \"margin-left: 2em\"> A collection of TimeSeries data and objects. </dd><br>\n",
    "\n",
    "<dt style=\"margin-left: 0.5em\"> TimeSeries Object </dt><br>\n",
    "<dd style= \"margin-left: 2em\"> An extracted piece of the TimeSeries from a LiPD file. </dd><br>\n",
    "\n",
    "</dl>\n",
    "</div>"
   ]
  }
 ],
 "metadata": {
  "kernelspec": {
   "display_name": "Python 3",
   "language": "python",
   "name": "python3"
  },
  "language_info": {
   "codemirror_mode": {
    "name": "ipython",
    "version": 3
   },
   "file_extension": ".py",
   "mimetype": "text/x-python",
   "name": "python",
   "nbconvert_exporter": "python",
   "pygments_lexer": "ipython3",
   "version": "3.4.1"
  }
 },
 "nbformat": 4,
 "nbformat_minor": 0
}
