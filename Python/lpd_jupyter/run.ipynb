{
 "cells": [
  {
   "cell_type": "code",
   "execution_count": null,
   "metadata": {
    "collapsed": true
   },
   "outputs": [],
   "source": [
    "# Import and create the major objects. These include all the sub-objects and sub-functions that we'll need.\n",
    "from LiPD_Library import *\n",
    "from TimeSeries_Library import *\n",
    "from Convert import *\n",
    "from ts import *\n",
    "\n",
    "lipd_library = LiPD_Library()\n",
    "timeseries_library = TimeSeries_Library()\n",
    "convert = Convert()"
   ]
  },
  {
   "cell_type": "code",
   "execution_count": null,
   "metadata": {
    "collapsed": false
   },
   "outputs": [],
   "source": [
    "# Set the library directory to wherever the LiPD files are stored (locally)\n",
    "lipd_library.setDir(\"/Users/chrisheiser1/Desktop/lipds\")"
   ]
  },
  {
   "cell_type": "code",
   "execution_count": null,
   "metadata": {
    "collapsed": false
   },
   "outputs": [],
   "source": [
    "# Load in all LiPD files from the set directory\n",
    "lipd_library.loadLipds()"
   ]
  },
  {
   "cell_type": "code",
   "execution_count": null,
   "metadata": {
    "collapsed": false
   },
   "outputs": [],
   "source": [
    "# Show what LiPD files are loaded and available\n",
    "lipd_library.showLipds()"
   ]
  },
  {
   "cell_type": "code",
   "execution_count": null,
   "metadata": {
    "collapsed": false
   },
   "outputs": [],
   "source": [
    "# Show the JSON metadata for one specific LiPD file\n",
    "lipd_library.showLipd('Asia-MHGSTG.lpd')"
   ]
  },
  {
   "cell_type": "code",
   "execution_count": null,
   "metadata": {
    "collapsed": false
   },
   "outputs": [],
   "source": [
    "# Show the CSV data for one specific LiPD file\n",
    "lipd_library.showCsv('Asia-MHGSTG.lpd')"
   ]
  },
  {
   "cell_type": "code",
   "execution_count": null,
   "metadata": {
    "collapsed": false
   },
   "outputs": [],
   "source": [
    "# DEVELOPMENT: working, but not perfectly\n",
    "# Show a google map with markers of one or more LiPD coordinate locations.\n",
    "lipd_library.showMap(\"Asia-LakeXimencuo2013xmc6.lpd\")"
   ]
  },
  {
   "cell_type": "code",
   "execution_count": null,
   "metadata": {
    "collapsed": false
   },
   "outputs": [],
   "source": [
    "# Create a TimeSeries using all the LiPD objects in the LiPD_Library.\n",
    "extractTimeSeries(lipd_library, timeseries_library, convert)"
   ]
  },
  {
   "cell_type": "code",
   "execution_count": null,
   "metadata": {
    "collapsed": false
   },
   "outputs": [],
   "source": [
    "# Show all the TimeSeries objects that are in the TimeSeries_Library\n",
    "timeseries_library.showTsos()"
   ]
  },
  {
   "cell_type": "code",
   "execution_count": null,
   "metadata": {
    "collapsed": false
   },
   "outputs": [],
   "source": [
    "# Show the metadata for one TimeSeries object.\n",
    "timeseries_library.showTso(\"NAm-cana096_TRW_RBar\")"
   ]
  },
  {
   "cell_type": "code",
   "execution_count": null,
   "metadata": {
    "collapsed": true
   },
   "outputs": [],
   "source": [
    "# \"whos\" function shows all variables, functions, objects, and modules currently in memory"
   ]
  },
  {
   "cell_type": "code",
   "execution_count": null,
   "metadata": {
    "collapsed": true
   },
   "outputs": [],
   "source": [
    "whos"
   ]
  },
  {
   "cell_type": "code",
   "execution_count": null,
   "metadata": {
    "collapsed": true
   },
   "outputs": [],
   "source": [
    "# Export the TimeSeries_Library back to a LiPD_Library.\n",
    "exportTimeSeries(lipd_library, timeseries_library, convert)"
   ]
  },
  {
   "cell_type": "code",
   "execution_count": null,
   "metadata": {
    "collapsed": true
   },
   "outputs": [],
   "source": []
  }
 ],
 "metadata": {
  "kernelspec": {
   "display_name": "Python 3",
   "language": "python",
   "name": "python3"
  },
  "language_info": {
   "codemirror_mode": {
    "name": "ipython",
    "version": 3
   },
   "file_extension": ".py",
   "mimetype": "text/x-python",
   "name": "python",
   "nbconvert_exporter": "python",
   "pygments_lexer": "ipython3",
   "version": "3.4.1"
  }
 },
 "nbformat": 4,
 "nbformat_minor": 0
}
