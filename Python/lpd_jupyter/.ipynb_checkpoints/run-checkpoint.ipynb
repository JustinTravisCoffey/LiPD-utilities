{
 "cells": [
  {
   "cell_type": "code",
   "execution_count": 2,
   "metadata": {
    "collapsed": true
   },
   "outputs": [],
   "source": [
    "from lpd_library import *\n",
    "l = LiPD_Library()"
   ]
  },
  {
   "cell_type": "code",
   "execution_count": 9,
   "metadata": {
    "collapsed": true
   },
   "outputs": [],
   "source": [
    "l.displayAll()"
   ]
  },
  {
   "cell_type": "code",
   "execution_count": 10,
   "metadata": {
    "collapsed": false
   },
   "outputs": [
    {
     "data": {
      "text/plain": [
       "'/Users/chrisheiser1/Documents/code/LiPD-utilities/Python/lpd_jupyter'"
      ]
     },
     "execution_count": 10,
     "metadata": {},
     "output_type": "execute_result"
    }
   ],
   "source": [
    "os.getcwd()"
   ]
  },
  {
   "cell_type": "code",
   "execution_count": 11,
   "metadata": {
    "collapsed": false
   },
   "outputs": [
    {
     "name": "stdout",
     "output_type": "stream",
     "text": [
      "Directory: /Users/chrisheiser1/Desktop/test\n"
     ]
    }
   ],
   "source": [
    "l.setDir(\"/Users/chrisheiser1/Desktop/test\")"
   ]
  },
  {
   "cell_type": "code",
   "execution_count": 12,
   "metadata": {
    "collapsed": true
   },
   "outputs": [],
   "source": [
    "l.loadLiPDdir()"
   ]
  },
  {
   "cell_type": "code",
   "execution_count": 13,
   "metadata": {
    "collapsed": false
   },
   "outputs": [
    {
     "name": "stdout",
     "output_type": "stream",
     "text": [
      "QuelccayaIceThompson2013.lpd\n",
      "Ocean2kHR-PacificNauruGuilderson1999.lpd\n",
      "Eur-SouthIceland.Moffa-Sanchez2014.lpd\n",
      "Ant-Ferrigno.Thomas.2013.lpd\n",
      "LagunaEscondElbert2013.lpd\n",
      "Asia-YKA.lpd\n",
      "Africa-ColdAirCave.Sundqvist.2013.lpd\n",
      "Aus-MorosMurrayCanyon.lpd\n",
      "NAm-ak008.lpd\n"
     ]
    }
   ],
   "source": [
    "l.displayAll()"
   ]
  },
  {
   "cell_type": "code",
   "execution_count": 14,
   "metadata": {
    "collapsed": false
   },
   "outputs": [
    {
     "name": "stdout",
     "output_type": "stream",
     "text": [
      "{\n",
      "  \"pub\": [\n",
      "    {\n",
      "      \"identifier\": [\n",
      "        {\n",
      "          \"id\": \"'\",\n",
      "          \"type\": \"doi\",\n",
      "          \"url\": \"http://dx.doi.org/'\"\n",
      "        }\n",
      "      ]\n",
      "    }\n",
      "  ],\n",
      "  \"@context\": \"context.jsonld\",\n",
      "  \"yearUnits\": \"AD\",\n",
      "  \"geo\": {\n",
      "    \"properties\": {\n",
      "      \"pages2kRegion\": \"Asia\"\n",
      "    },\n",
      "    \"geometry\": {\n",
      "      \"coordinates\": [\n",
      "        30.37,\n",
      "        130.53\n",
      "      ]\n",
      "    },\n",
      "    \"type\": \"Feature\"\n",
      "  },\n",
      "  \"dataSetName\": \"Asia-YKA\",\n",
      "  \"archiveType\": \"tree\",\n",
      "  \"paleoData\": [\n",
      "    {\n",
      "      \"filename\": \"Asia-YKA.measTable.PaleoData.csv\",\n",
      "      \"paleoDataTableName\": \"measTable\",\n",
      "      \"columns\": [\n",
      "        {\n",
      "          \"variableName\": \"trsgi\",\n",
      "          \"proxy\": \"TRW\",\n",
      "          \"parameter\": \"trsgi\",\n",
      "          \"useInGlobalTemperatureAnalysis\": \"TRUE\",\n",
      "          \"number\": 1,\n",
      "          \"units\": \"NA\",\n",
      "          \"tableName\": \"measTable\",\n",
      "          \"climateInterpretation\": {\n",
      "            \"interpDirection\": \"positive\",\n",
      "            \"climateParameter\": \"T\"\n",
      "          },\n",
      "          \"TSid\": \"Asia_118\"\n",
      "        },\n",
      "        {\n",
      "          \"description\": \"Year AD\",\n",
      "          \"variableName\": \"year\",\n",
      "          \"parameter\": \"year\",\n",
      "          \"units\": \"AD\",\n",
      "          \"number\": 2,\n",
      "          \"dataType\": \"float\"\n",
      "        }\n",
      "      ]\n",
      "    }\n",
      "  ]\n",
      "}\n"
     ]
    }
   ],
   "source": [
    "l.master['Asia-YKA.lpd'].displayData()"
   ]
  },
  {
   "cell_type": "code",
   "execution_count": null,
   "metadata": {
    "collapsed": true
   },
   "outputs": [],
   "source": []
  }
 ],
 "metadata": {
  "kernelspec": {
   "display_name": "Python 3",
   "language": "python",
   "name": "python3"
  },
  "language_info": {
   "codemirror_mode": {
    "name": "ipython",
    "version": 3
   },
   "file_extension": ".py",
   "mimetype": "text/x-python",
   "name": "python",
   "nbconvert_exporter": "python",
   "pygments_lexer": "ipython3",
   "version": "3.4.1"
  }
 },
 "nbformat": 4,
 "nbformat_minor": 0
}
