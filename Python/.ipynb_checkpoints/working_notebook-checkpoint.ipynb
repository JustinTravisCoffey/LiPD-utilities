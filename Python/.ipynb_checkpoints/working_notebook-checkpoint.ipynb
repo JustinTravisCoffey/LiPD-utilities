{
 "cells": [
  {
   "cell_type": "code",
   "execution_count": null,
   "metadata": {},
   "outputs": [],
   "source": [
    "# Import and create the major objects. These include all the sub-objects and sub-functions that we'll need.\n",
    "from LiPD_Library import *\n",
    "from TimeSeries_Library import *\n",
    "from Convert import *\n",
    "from ts import *\n",
    "\n",
    "lipd_library = LiPD_Library()\n",
    "timeseries_library = TimeSeries_Library()\n",
    "convert = Convert()"
   ]
  },
  {
   "cell_type": "code",
   "execution_count": null,
   "metadata": {},
   "outputs": [],
   "source": [
    "%run __main__.py"
   ]
  },
  {
   "cell_type": "code",
   "execution_count": null,
   "metadata": {},
   "outputs": [],
   "source": [
    "bd = input('whats your birthday?')"
   ]
  },
  {
   "cell_type": "code",
   "execution_count": null,
   "metadata": {},
   "outputs": [],
   "source": [
    "bd"
   ]
  },
  {
   "cell_type": "code",
   "execution_count": null,
   "metadata": {},
   "outputs": [],
   "source": [
    "# Set the library directory to wherever the LiPD files are stored (locally)\n",
    "lipd_library.setDir(\"/Users/chrisheiser1/Desktop/lipds\")"
   ]
  },
  {
   "cell_type": "code",
   "execution_count": null,
   "metadata": {},
   "outputs": [],
   "source": [
    "# Load in all LiPD files from the set directory\n",
    "lipd_library.loadLipds()"
   ]
  },
  {
   "cell_type": "code",
   "execution_count": null,
   "metadata": {},
   "outputs": [],
   "source": [
    "# Show what LiPD files are loaded and available\n",
    "lipd_library.showLipds()"
   ]
  },
  {
   "cell_type": "code",
   "execution_count": null,
   "metadata": {},
   "outputs": [],
   "source": [
    "# Show the JSON metadata for one specific LiPD file\n",
    "lipd_library.showLipd('SAm-LagunaChepicdeJong2013.lpd')"
   ]
  },
  {
   "cell_type": "code",
   "execution_count": null,
   "metadata": {},
   "outputs": [],
   "source": [
    "# Show the CSV data for one specific LiPD file\n",
    "lipd_library.showCsv('Asia-MHGSTG.lpd')"
   ]
  },
  {
   "cell_type": "code",
   "execution_count": null,
   "metadata": {},
   "outputs": [],
   "source": [
    "# DEVELOPMENT: working, but not perfectly\n",
    "# Show a google map with markers of one or more LiPD coordinate locations.\n",
    "lipd_library.showMap(\"Asia-LakeXimencuo2013xmc6.lpd\")"
   ]
  },
  {
   "cell_type": "code",
   "execution_count": null,
   "metadata": {},
   "outputs": [],
   "source": [
    "# Create a TimeSeries using all the LiPD objects in the LiPD_Library.\n",
    "extractTimeSeries(lipd_library, timeseries_library, convert)"
   ]
  },
  {
   "cell_type": "code",
   "execution_count": null,
   "metadata": {},
   "outputs": [],
   "source": [
    "# Show all the TimeSeries objects that are in the TimeSeries_Library\n",
    "timeseries_library.showTsos()"
   ]
  },
  {
   "cell_type": "raw",
   "metadata": {},
   "source": [
    "# Show the metadata for one TimeSeries object.\n",
    "timeseries_library.showTso(\"SAm-CAN15Neukom2011_s1_C.Andes_Cluster_15_Data_20a_spline\")"
   ]
  },
  {
   "cell_type": "code",
   "execution_count": null,
   "metadata": {},
   "outputs": [],
   "source": [
    "# Export the TimeSeries_Library back to a LiPD_Library.\n",
    "exportTimeSeries(lipd_library, timeseries_library, convert)"
   ]
  },
  {
   "cell_type": "code",
   "execution_count": null,
   "metadata": {},
   "outputs": [],
   "source": [
    "# \"whos\" function shows all variables, functions, objects, and modules currently in memory"
   ]
  },
  {
   "cell_type": "code",
   "execution_count": null,
   "metadata": {},
   "outputs": [],
   "source": [
    "whos"
   ]
  },
  {
   "cell_type": "raw",
   "metadata": {},
   "source": [
    "HELP - Valid commands\n",
    "\n",
    "# GETTING STARTED\n",
    "lipd_libary.setDir(path)\n",
    "lipd_libary.loadLipd(filename)\n",
    "lipd_libary.loadLipds()\n",
    "\n",
    "# ANALYSIS - LIPD\n",
    "lipd_libary.showCsv(filename)\n",
    "lipd_libary.showLipd(filename)\n",
    "lipd_libary.showLipds()\n",
    "lipd_libary.showMap(filename)\n",
    "\n",
    "# ANALYSIS - TIME SERIES\n",
    "extractTimeSeries(lipd_library, timeseries_library, convert)\n",
    "exportTimeSeries(lipd_library, timeseries_library, convert)\n",
    "timeseries_library.showTso(name)\n",
    "timeseries_library.showTsos()\n",
    " \n",
    "# CLOSING\n",
    "lipd_libary.saveLipd(filename)\n",
    "lipd_libary.saveLipds()\n",
    "lipd_libary.removeLipd(filename)\n",
    "lipd_libary.removeLipds()\n",
    "\n",
    "# Delete a cell\n",
    "# Press \"D\" twice when cell is highlighted\n",
    "\n",
    "# Clear output from cell or all cells\n",
    "# Menu > Cell > All Output > Clear"
   ]
  },
  {
   "cell_type": "code",
   "execution_count": null,
   "metadata": {},
   "outputs": [],
   "source": [
    "# How to get help documentation on a function\n",
    "lipd_library.loadLipds?"
   ]
  },
  {
   "cell_type": "code",
   "execution_count": null,
   "metadata": {},
   "outputs": [],
   "source": [
    "# How to get a list of available functions for an object\n",
    "lipd_library.<Press TAB>"
   ]
  }
 ],
 "metadata": {
  "kernelspec": {
   "display_name": "Python 3",
   "language": "python",
   "name": "python3"
  },
  "language_info": {
   "codemirror_mode": {
    "name": "ipython",
    "version": 3.0
   },
   "file_extension": ".py",
   "mimetype": "text/x-python",
   "name": "python",
   "nbconvert_exporter": "python",
   "pygments_lexer": "ipython3",
   "version": "3.4.1"
  }
 },
 "nbformat": 4,
 "nbformat_minor": 0
}